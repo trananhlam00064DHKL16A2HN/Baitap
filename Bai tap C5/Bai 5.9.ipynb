{
 "cells": [
  {
   "cell_type": "code",
   "execution_count": 1,
   "metadata": {},
   "outputs": [],
   "source": [
    "import pandas as pd\n",
    "from io import StringIO\n"
   ]
  },
  {
   "cell_type": "code",
   "execution_count": 2,
   "metadata": {},
   "outputs": [
    {
     "name": "stdout",
     "output_type": "stream",
     "text": [
      "   region_id             region_name\n",
      "0          1                  europe\n",
      "1          2                americas\n",
      "2          3                    asia\n",
      "3          4  middle east and africa\n"
     ]
    }
   ],
   "source": [
    "csv_data = \"\"\"region_id,region_name\n",
    "1,europe\n",
    "2,americas\n",
    "3,asia\n",
    "4,middle east and africa\n",
    "\"\"\"\n",
    "\n",
    "with open('region.csv', 'w') as file:\n",
    "    file.write(csv_data)\n",
    "\n",
    "df = pd.read_csv('region.csv')\n",
    "print(df)"
   ]
  }
 ],
 "metadata": {
  "kernelspec": {
   "display_name": "base",
   "language": "python",
   "name": "python3"
  },
  "language_info": {
   "codemirror_mode": {
    "name": "ipython",
    "version": 3
   },
   "file_extension": ".py",
   "mimetype": "text/x-python",
   "name": "python",
   "nbconvert_exporter": "python",
   "pygments_lexer": "ipython3",
   "version": "3.11.4"
  }
 },
 "nbformat": 4,
 "nbformat_minor": 2
}
